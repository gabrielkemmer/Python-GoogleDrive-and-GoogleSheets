{
 "cells": [
  {
   "cell_type": "markdown",
   "id": "d1f8308a",
   "metadata": {},
   "source": [
    "# Importar Google Sheet"
   ]
  },
  {
   "cell_type": "code",
   "execution_count": null,
   "id": "c2f6efed",
   "metadata": {},
   "outputs": [],
   "source": [
    "import gspread\n",
    "\n",
    "sa = gspread.service_account()\n",
    "sh = sa.open(\"StudentsTest\")\n",
    "\n",
    "wks = sh.worksheet(\"Class Data\")\n",
    "\n",
    "#print('Rows: ', wks.row_count)\n",
    "#print('Cols: ', wks.col_count)\n",
    "\n",
    "#print(wks.acell('A9').value)\n",
    "#print(wks.cell(3, 4).value)\n",
    "#print(wks.get('A7:E9'))\n",
    "\n",
    "#print(wks.get_all_records())\n",
    "#print(wks.get_all_values())\n",
    "\n",
    "#wks.update('A3', 'Anthony')\n",
    "#wks.update('D2:E3', [['Engineering', 'Tennis'], ['Business', 'Pottery']])\n",
    "#wks.update('F2', '=UPPER(E2)', raw=False)\n",
    "\n",
    "wks.delete_rows(25)"
   ]
  },
  {
   "cell_type": "code",
   "execution_count": null,
   "id": "2f8e04cc",
   "metadata": {},
   "outputs": [],
   "source": [
    "import gspread\n",
    "import pandas as pd\n",
    "\n",
    "#Always go to Google Cloud, look for service account email and share with the sheet\n",
    "sa = gspread.service_account('client_sheet.json')\n",
    "sh = sa.open(\"Teste\")\n",
    "\n",
    "wks = sh.worksheet(\"Sheet1\")\n",
    "\n",
    "print('Rows: ', wks.row_count)\n",
    "print('Cols: ', wks.col_count)\n",
    "\n",
    "#print(wks.acell('A9').value)\n",
    "#print(wks.cell(3, 4).value)\n",
    "#print(wks.get('A7:E9'))\n",
    "\n",
    "#print(wks.get_all_records())\n",
    "#print(wks.get_all_values())\n",
    "\n",
    "#wks.update('A3', 'Anthony')\n",
    "#wks.update('D2:E3', [['Engineering', 'Tennis'], ['Business', 'Pottery']])\n",
    "#wks.update('F2', '=UPPER(E2)', raw=False)\n",
    "\n"
   ]
  },
  {
   "cell_type": "code",
   "execution_count": null,
   "id": "6a98f8ea",
   "metadata": {},
   "outputs": [],
   "source": [
    "#Pega todos os valores da planilha\n",
    "wks.get_all_values()\n",
    "\n",
    "#Primeiro row depois column\n",
    "wks.cell(1, 1).value\n",
    "\n",
    "#Pega o valor da row 1\n",
    "wks.row_values(1)\n",
    "\n",
    "#Pega o valor da column 1\n",
    "wks.col_values(1)\n",
    "\n",
    "#Altera o valor de uma célula específica aqui linha 3 coluna 1\n",
    "wks.update_cell(3, 1, \"I just wrote to a spreadsheet using Python!\")\n",
    "#Aqui célula B12\n",
    "wks.update('B12','Mexico')\n",
    "\n",
    "\n",
    "\n"
   ]
  },
  {
   "cell_type": "code",
   "execution_count": null,
   "id": "d98d9723",
   "metadata": {},
   "outputs": [],
   "source": [
    "#Ler o excel\n",
    "#beat = pd.read_excel('wbuybeatestoque.xlsx')\n",
    "\n",
    "#Ver quais opções tem dentro do objeto\n",
    "#comment.keys()\n",
    "\n",
    "#transformar os dados em dataframe\n",
    "#frame = pd.DataFrame(comment['data'][0].keys())\n",
    "\n",
    "\n",
    "#mostrar o cabeçalho de qualquer arquivo ou dataframe\n",
    "#wks.head(30)\n",
    "\n"
   ]
  },
  {
   "cell_type": "code",
   "execution_count": null,
   "id": "1e4ef821",
   "metadata": {
    "scrolled": false
   },
   "outputs": [],
   "source": [
    "import pandas as pd\n",
    "\n",
    "beat=pd.read_excel('/Volumes/GoogleDrive/My Drive/Python google Sheet Wbuy/wbuyestoqueoficial.xlsx')\n",
    "\n",
    "beat.count()"
   ]
  },
  {
   "cell_type": "code",
   "execution_count": null,
   "id": "b29e739d",
   "metadata": {},
   "outputs": [],
   "source": [
    "#código para preencher valores vazios, senão não funciona\n",
    "beat.fillna('', inplace=True)"
   ]
  },
  {
   "cell_type": "code",
   "execution_count": null,
   "id": "ab73524b",
   "metadata": {},
   "outputs": [],
   "source": [
    "import pygsheets\n",
    "import pandas as pd\n",
    "\n",
    "wks.update([beat.columns.tolist()] + beat.values.tolist())"
   ]
  },
  {
   "cell_type": "code",
   "execution_count": null,
   "id": "767721f5",
   "metadata": {},
   "outputs": [],
   "source": []
  }
 ],
 "metadata": {
  "kernelspec": {
   "display_name": "Python 3 (ipykernel)",
   "language": "python",
   "name": "python3"
  },
  "language_info": {
   "codemirror_mode": {
    "name": "ipython",
    "version": 3
   },
   "file_extension": ".py",
   "mimetype": "text/x-python",
   "name": "python",
   "nbconvert_exporter": "python",
   "pygments_lexer": "ipython3",
   "version": "3.9.7"
  }
 },
 "nbformat": 4,
 "nbformat_minor": 5
}
