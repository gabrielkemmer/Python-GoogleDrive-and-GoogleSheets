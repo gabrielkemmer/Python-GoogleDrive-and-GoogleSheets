{
 "cells": [
  {
   "cell_type": "code",
   "execution_count": null,
   "id": "fc88b77a",
   "metadata": {},
   "outputs": [],
   "source": [
    "\n",
    "# Google OAuth 2.0 and OAuth consent screen\n",
    "\n",
    "# authetication to google api services\n",
    "# create oauth client secret file\n",
    "\n",
    "# https://console.cloud.google.com/\n",
    "\n",
    "# pip install pydrive\n",
    "\n",
    "import os\n",
    "from pydrive.auth import GoogleAuth\n",
    "from pydrive.drive import GoogleDrive\n",
    "\n",
    "#gauth = GoogleAuth()\n",
    "#drive = GoogleDrive(gauth)\n",
    "\n",
    "folder = '1fL9vrz7u9YONU83k_cKc1VE-CEfQwWG3'\n",
    "\n",
    "file1 = drive.CreateFile({'parents' : [{'id' : folder}], 'title' : 'hello2.txt'})\n",
    "file1.SetContentString('Hello world!, this is my second file')\n",
    "file1.Upload()"
   ]
  },
  {
   "cell_type": "code",
   "execution_count": null,
   "id": "07409873",
   "metadata": {},
   "outputs": [],
   "source": [
    "# Upload files\n",
    "directory = \"D:/pyGuru/Youtube/Google services/Google drive backup/data\"\n",
    "for f in os.listdir(directory):\n",
    "\tfilename = os.path.join(directory, f)\n",
    "\tgfile = drive.CreateFile({'parents' : [{'id' : folder}], 'title' : f})\n",
    "\tgfile.SetContentFile(filename)\n",
    "\tgfile.Upload()\n",
    "\n",
    "# Download files\n",
    "file_list = drive.ListFile({'q' : f\"'{folder}' in parents and trashed=false\"}).GetList()\n",
    "for index, file in enumerate(file_list):\n",
    "\tprint(index+1, 'file downloaded : ', file['title'])\n",
    "\tfile.GetContentFile(file['title'])"
   ]
  },
  {
   "cell_type": "code",
   "execution_count": null,
   "id": "5076f112",
   "metadata": {},
   "outputs": [],
   "source": [
    "pip install schedule"
   ]
  },
  {
   "cell_type": "code",
   "execution_count": null,
   "id": "7c6d690d",
   "metadata": {},
   "outputs": [],
   "source": [
    "#para o programa ficar rodando direto\n",
    "\n",
    "import schedule\n",
    "import time\n",
    "\n",
    "def subirarquivosdrive():\n",
    "    directory = \"/Users/gabrielcarvalho/Python Sutff/Wbuy Planilhas\"\n",
    "    for f in os.listdir(directory):\n",
    "        filename = os.path.join(directory, f)\n",
    "        gfile = drive.CreateFile({'parents' : [{'id' : folder}], 'title' : f})\n",
    "        gfile.SetContentFile(filename)\n",
    "        gfile.Upload()\n",
    "    \n",
    "    schedule.every(30).seconds.do(subirarquivosdrive)\n",
    "\n",
    "while 1:\n",
    "    schedule.run_pending()\n",
    "    time.sleep(1)"
   ]
  },
  {
   "cell_type": "code",
   "execution_count": null,
   "id": "34f5758c",
   "metadata": {},
   "outputs": [],
   "source": []
  }
 ],
 "metadata": {
  "kernelspec": {
   "display_name": "Python 3 (ipykernel)",
   "language": "python",
   "name": "python3"
  },
  "language_info": {
   "codemirror_mode": {
    "name": "ipython",
    "version": 3
   },
   "file_extension": ".py",
   "mimetype": "text/x-python",
   "name": "python",
   "nbconvert_exporter": "python",
   "pygments_lexer": "ipython3",
   "version": "3.9.7"
  }
 },
 "nbformat": 4,
 "nbformat_minor": 5
}
